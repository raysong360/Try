{
 "cells": [
  {
   "cell_type": "code",
   "execution_count": 4,
   "metadata": {},
   "outputs": [],
   "source": [
    "using DifferentialEquations, CSV, DataFrames, Statistics, Plots\n",
    "using BlackBoxOptim\n",
    "using DASSL\n",
    "using LSODA"
   ]
  },
  {
   "cell_type": "code",
   "execution_count": 5,
   "metadata": {},
   "outputs": [
    {
     "data": {
      "text/plain": [
       "\"constant input: \\n    Inlet states of two air streams\\n    moist air property\\n    desiccant property\\n    rotation speed\\n    air velocity\\nparameters：\\n    structure area, A\\n    structure perimeter, P\\n    wheel length, L\\n    heat and mass transfer coefficient, h\\ncost function:\\n    moisture uptake\\n    cost\\n\""
      ]
     },
     "execution_count": 5,
     "metadata": {},
     "output_type": "execute_result"
    }
   ],
   "source": [
    "const N=10 ## number of the channels\n",
    "\n",
    "const T_a0=273.15+25 # Inlet air tempearture of the proces air\n",
    "const T_an=273.15+60 # Inlet air humidity ratio of the process air\n",
    "const Y_a0=0.0125 # Inlet air tempearture of the regen air\n",
    "const Y_an=0.0125 # Inlet air humidity ratio of the regen air\n",
    "const vec=6 # air velocity of process air and regen air\n",
    "\n",
    "const W_0=0.001 # initial value of desiccant moisture content\n",
    "const T_0=273.15+10 # initial value of desiccant tempearture\n",
    "\n",
    "const cpv=2140 # specific heat of vapor\n",
    "const cpa=1017 # specific heat of air, 50C\n",
    "const rho_a=1 # density of air\n",
    "const cpd=921 # specific heat of desiccant, regular density of silica gel\n",
    "const cpl=4180 # specific heat of liquid water\n",
    "const cpsp=900 # specific heat of supporting materials\n",
    "const fd=0.005 # desiccant fraction in the wall or in the matrix\n",
    "const fm=0.005 # silica gel fraction in the desiccant(silica gel+supporting materials)\n",
    "const qst=2300000 # adsorption heat\n",
    "\"\"\"\n",
    "constant input: \n",
    "    Inlet states of two air streams\n",
    "    moist air property\n",
    "    desiccant property\n",
    "    rotation speed\n",
    "    air velocity\n",
    "parameters：\n",
    "    structure area, A\n",
    "    structure perimeter, P\n",
    "    wheel length, L\n",
    "    heat and mass transfer coefficient, h\n",
    "cost function:\n",
    "    moisture uptake\n",
    "    cost\n",
    "\"\"\""
   ]
  },
  {
   "cell_type": "code",
   "execution_count": 6,
   "metadata": {},
   "outputs": [
    {
     "data": {
      "text/plain": [
       "equilibrium (generic function with 1 method)"
      ]
     },
     "execution_count": 6,
     "metadata": {},
     "output_type": "execute_result"
    }
   ],
   "source": [
    "# define the equilibrium of desiccant \n",
    "function equilibrium(W,T)\n",
    "    RH=0.0078 - 0.05759*W + 24.16554*W^2 - 124.478*W^3 + 204.226*W^4\n",
    "    Pvs= exp(23.296 - 3816.44/(T - 46.13))\n",
    "    Y=0.62198*RH/(101325/Pvs - RH)\n",
    "    return Y\n",
    "end\n"
   ]
  },
  {
   "cell_type": "code",
   "execution_count": 7,
   "metadata": {},
   "outputs": [
    {
     "data": {
      "text/plain": [
       "system_dynamics! (generic function with 1 method)"
      ]
     },
     "execution_count": 7,
     "metadata": {},
     "output_type": "execute_result"
    }
   ],
   "source": [
    "# define the problem \n",
    "function system_dynamics!(du,u,p,t)\n",
    "    A,P,L,h,hm=p\n",
    "    u[1,1]=Y_a0\n",
    "    u[1,2]=T_a0\n",
    "    \n",
    "    u[1,4]=W_0\n",
    "    u[1,5]=T_0\n",
    "    u[1,3]=equilibrium(u[1,4],u[1,5]) # desiccant layer 边界层空气的含湿量\n",
    "    for i in 2:(N-1)\n",
    "        ip, im = i+1, i-1 ## the index of the former channel and latter channel\n",
    "\n",
    "        # air humidity ratio Ya \n",
    "        du[i,1]=-(u[ip,1]+u[im,1]-2*u[i,1])*vec/L*N+(u[i,3]-u[i,1])*P*hm/A/rho_a\n",
    "        # air Temperature Ta\n",
    "        du[i,2]=-(u[ip,2]+u[im,2]-2*u[i,2])*vec/L*N+(h*(u[i,5]-u[i,2])+cpv*hm*(u[i,5]-u[i,2])*(u[i,1]-u[i,3]))*P/A/rho_a/(cpa+u[i,1]*cpv)\n",
    "    end\n",
    "    u[N,1]=-(u[N-1,1]-u[N,1])*vec/L*N+(u[N,3]-u[N,1])*P*hm/A/rho_a\n",
    "    u[N,2]=-(u[N-1,2]-u[N,2])*vec/L*N+(h*(u[N,5]-u[N,2])+cpv*hm*(u[N,5]-u[N,2])*(u[N,1]-u[N,3]))*P/A/rho_a/(cpa+u[N,1]*cpv)\n",
    "    for i in 2:N\n",
    "        ip, im = i+1, i-1 ## the index of the former channel and latter channel   \n",
    "        # desiccant moisture content W\n",
    "        du[i,4]=2*P*hm*(u[i,1]-u[i,3])/fd\n",
    "        # desiccant Temperature Td\n",
    "        du[i,5]=(h*(u[i,2]-u[i,5])+cpv*hm*(u[i,2]-u[i,5])*(u[i,1]-u[i,3])+hm*(u[i,1]-u[i,3])*qst)*P*2/(fd*(cpd+u[i,4]*cpl)+fm*cpsp)\n",
    "\n",
    "        # desiccant humidity ratio Yd\n",
    "        u[i,3]=equilibrium(u[i,4],u[i,5]) # should be u[i,3]=equilibrium(u[i,4],u[i,5])\n",
    "    end\n",
    "    \n",
    "end\n"
   ]
  },
  {
   "cell_type": "code",
   "execution_count": 8,
   "metadata": {},
   "outputs": [
    {
     "data": {
      "text/plain": [
       "Initialization_system (generic function with 1 method)"
      ]
     },
     "execution_count": 8,
     "metadata": {},
     "output_type": "execute_result"
    }
   ],
   "source": [
    "function Initialization_system(N)\n",
    "    u=zeros(N,5)\n",
    "    for i in 1:N\n",
    "        u[i,1]=Y_a0\n",
    "        u[i,2]=T_a0\n",
    "        \n",
    "        u[i,4]=W_0\n",
    "        u[i,5]=T_0\n",
    "        u[i,3]=equilibrium(W_0,T_0)\n",
    "    end\n",
    "    u\n",
    "end"
   ]
  },
  {
   "cell_type": "code",
   "execution_count": 6,
   "metadata": {},
   "outputs": [
    {
     "data": {
      "text/plain": [
       "cost_function (generic function with 1 method)"
      ]
     },
     "metadata": {},
     "output_type": "display_data"
    }
   ],
   "source": []
  },
  {
   "cell_type": "code",
   "execution_count": 9,
   "metadata": {},
   "outputs": [
    {
     "data": {
      "text/plain": [
       "retcode: Success\n",
       "Interpolation: 1st order linear\n",
       "t: 38-element Vector{Float64}:\n",
       "   0.0\n",
       "   3.797742888891485e-8\n",
       "   7.59548577778297e-8\n",
       "   1.1393228666674455e-7\n",
       "   1.519097155556594e-7\n",
       "   1.8988714444457425e-7\n",
       "   2.658420022224039e-7\n",
       "   3.417968600002336e-7\n",
       "   4.177517177780633e-7\n",
       "   1.1773002955563603e-6\n",
       "   1.936848873334657e-6\n",
       "   2.6963974511129543e-6\n",
       "   1.0291883228895925e-5\n",
       "   ⋮\n",
       "   0.04792233950655335\n",
       "   0.06723738050446845\n",
       "   0.2603877904836196\n",
       "   0.4535382004627707\n",
       "   0.6466886104419218\n",
       "   2.578192710233433\n",
       "   4.509696810024944\n",
       "   6.441200909816455\n",
       "  25.756241907731567\n",
       "  45.07128290564668\n",
       "  64.38632390356179\n",
       " 200.0\n",
       "u: 38-element Vector{Matrix{Float64}}:\n",
       " [0.0125 298.15 … 0.001 283.15; 0.0125 298.15 … 0.001 283.15; … ; 0.0125 298.15 … 0.001 283.15; 0.0125 298.15 … 0.001 283.15]\n",
       " [NaN 298.15 … 0.001 283.15; 0.01249998707756146 298.14991498383307 … 0.0010000000129222913 283.1500000649009; … ; NaN NaN … 0.0010000000129264674 283.15000006517636; -0.3402627591181934 -7016.765666191724 … 0.0009998997109732914 283.37854762098243]\n",
       " [NaN 298.15 … 0.001 283.15; NaN NaN … 0.0010000000258445691 283.1500001298015; … ; NaN NaN … NaN NaN; -0.3402627591181934 -7016.765666191724 … NaN NaN]\n",
       " [NaN 298.15 … 0.001 283.15; NaN NaN … NaN NaN; … ; NaN NaN … NaN NaN; -0.3402627591181934 -7016.765666191724 … NaN NaN]\n",
       " [NaN 298.15 … 0.001 283.15; NaN NaN … NaN NaN; … ; NaN NaN … NaN NaN; -0.3402627591181934 -7016.765666191724 … NaN NaN]\n",
       " [NaN 298.15 … 0.001 283.15; NaN NaN … NaN NaN; … ; NaN NaN … NaN NaN; -0.3402627591181934 -7016.765666191724 … NaN NaN]\n",
       " [NaN 298.15 … 0.001 283.15; NaN NaN … NaN NaN; … ; NaN NaN … NaN NaN; -0.3402627591181934 -7016.765666191724 … NaN NaN]\n",
       " [NaN 298.15 … 0.001 283.15; NaN NaN … NaN NaN; … ; NaN NaN … NaN NaN; -0.3402627591181934 -7016.765666191724 … NaN NaN]\n",
       " [NaN 298.15 … 0.001 283.15; NaN NaN … NaN NaN; … ; NaN NaN … NaN NaN; -0.3402627591181934 -7016.765666191724 … NaN NaN]\n",
       " [NaN 298.15 … 0.001 283.15; NaN NaN … NaN NaN; … ; NaN NaN … NaN NaN; -0.3402627591181934 -7016.765666191724 … NaN NaN]\n",
       " [NaN 298.15 … 0.001 283.15; NaN NaN … NaN NaN; … ; NaN NaN … NaN NaN; -0.3402627591181934 -7016.765666191724 … NaN NaN]\n",
       " [NaN 298.15 … 0.001 283.15; NaN NaN … NaN NaN; … ; NaN NaN … NaN NaN; -0.3402627591181934 -7016.765666191724 … NaN NaN]\n",
       " [NaN 298.15 … 0.001 283.15; NaN NaN … NaN NaN; … ; NaN NaN … NaN NaN; -0.3402627591181934 -7016.765666191724 … NaN NaN]\n",
       " ⋮\n",
       " [NaN NaN … NaN NaN; NaN NaN … NaN NaN; … ; NaN NaN … NaN NaN; NaN NaN … NaN NaN]\n",
       " [NaN NaN … NaN NaN; NaN NaN … NaN NaN; … ; NaN NaN … NaN NaN; NaN NaN … NaN NaN]\n",
       " [NaN NaN … NaN NaN; NaN NaN … NaN NaN; … ; NaN NaN … NaN NaN; NaN NaN … NaN NaN]\n",
       " [NaN NaN … NaN NaN; NaN NaN … NaN NaN; … ; NaN NaN … NaN NaN; NaN NaN … NaN NaN]\n",
       " [NaN NaN … NaN NaN; NaN NaN … NaN NaN; … ; NaN NaN … NaN NaN; NaN NaN … NaN NaN]\n",
       " [NaN NaN … NaN NaN; NaN NaN … NaN NaN; … ; NaN NaN … NaN NaN; NaN NaN … NaN NaN]\n",
       " [NaN NaN … NaN NaN; NaN NaN … NaN NaN; … ; NaN NaN … NaN NaN; NaN NaN … NaN NaN]\n",
       " [NaN NaN … NaN NaN; NaN NaN … NaN NaN; … ; NaN NaN … NaN NaN; NaN NaN … NaN NaN]\n",
       " [NaN NaN … NaN NaN; NaN NaN … NaN NaN; … ; NaN NaN … NaN NaN; NaN NaN … NaN NaN]\n",
       " [NaN NaN … NaN NaN; NaN NaN … NaN NaN; … ; NaN NaN … NaN NaN; NaN NaN … NaN NaN]\n",
       " [NaN NaN … NaN NaN; NaN NaN … NaN NaN; … ; NaN NaN … NaN NaN; NaN NaN … NaN NaN]\n",
       " [NaN NaN … NaN NaN; NaN NaN … NaN NaN; … ; NaN NaN … NaN NaN; NaN NaN … NaN NaN]"
      ]
     },
     "execution_count": 9,
     "metadata": {},
     "output_type": "execute_result"
    }
   ],
   "source": [
    "\n",
    "# Bounds for the parameters\n",
    "#bounds = [(0.000001, 0.00001), (0.006, 0.01), (0.1, 0.25), (60,90), (0.05, 0.15)]\n",
    "\n",
    "# Perform global optimization using Differential Evolution\n",
    "#result = bboptimize(cost_function; SearchRange = bounds, Method = :adaptive_de_rand_1_bin_radiuslimited,\n",
    "#PopulationSize = 150, MaxSteps = 30,  MaxTime = 300.0)\n",
    "time=(0,200)\n",
    "p=(0.0000025,0.0076,0.2,51,0.009)\n",
    "prob_optimized = ODEProblem(system_dynamics!, Initialization_system(N), time, p)\n",
    "\n",
    "solution_optimized = solve(prob_optimized, lsoda())"
   ]
  },
  {
   "cell_type": "code",
   "execution_count": 13,
   "metadata": {},
   "outputs": [
    {
     "data": {
      "text/plain": [
       "38-element Vector{Float64}:\n",
       "    25.0\n",
       " -7289.915666191724\n",
       " -7289.915666191724\n",
       " -7289.915666191724\n",
       " -7289.915666191724\n",
       " -7289.915666191724\n",
       " -7289.915666191724\n",
       " -7289.915666191724\n",
       " -7289.915666191724\n",
       " -7289.915666191724\n",
       " -7289.915666191724\n",
       " -7289.915666191724\n",
       " -7289.915666191724\n",
       "     ⋮\n",
       "   NaN\n",
       "   NaN\n",
       "   NaN\n",
       "   NaN\n",
       "   NaN\n",
       "   NaN\n",
       "   NaN\n",
       "   NaN\n",
       "   NaN\n",
       "   NaN\n",
       "   NaN\n",
       "   NaN"
      ]
     },
     "execution_count": 13,
     "metadata": {},
     "output_type": "execute_result"
    }
   ],
   "source": [
    "[u[N, 2] - 273.15 for u in solution_optimized.u]  # 将温度转换为摄氏度\n"
   ]
  },
  {
   "cell_type": "code",
   "execution_count": 14,
   "metadata": {},
   "outputs": [
    {
     "name": "stdout",
     "output_type": "stream",
     "text": [
      "0.0125\n",
      "NaN\n",
      "NaN\n",
      "NaN\n",
      "NaN\n",
      "NaN\n",
      "NaN\n",
      "NaN\n",
      "NaN\n",
      "NaN\n",
      "NaN\n",
      "NaN\n",
      "NaN\n",
      "NaN\n",
      "NaN\n",
      "NaN\n",
      "NaN\n",
      "NaN\n",
      "NaN\n",
      "NaN\n",
      "NaN\n",
      "NaN\n",
      "NaN\n",
      "NaN\n",
      "NaN\n",
      "NaN\n",
      "NaN\n",
      "NaN\n",
      "NaN\n",
      "NaN\n",
      "NaN\n",
      "NaN\n",
      "NaN\n",
      "NaN\n",
      "NaN\n",
      "NaN\n",
      "NaN\n",
      "NaN\n"
     ]
    }
   ],
   "source": [
    "for i in solution_optimized[1,:]\n",
    "    println(i)\n",
    "end"
   ]
  },
  {
   "cell_type": "code",
   "execution_count": null,
   "metadata": {},
   "outputs": [],
   "source": [
    "solution_optimized[1,:]"
   ]
  },
  {
   "cell_type": "code",
   "execution_count": 34,
   "metadata": {},
   "outputs": [
    {
     "name": "stderr",
     "output_type": "stream",
     "text": [
      "┌ Error: Some Julia code in the VS Code extension crashed\n",
      "└ @ VSCodeServer c:\\Users\\h_guan\\.vscode\\extensions\\julialang.language-julia-1.47.2\\scripts\\error_handler.jl:15\n",
      "\u001b[91m\u001b[1mERROR: \u001b[22m\u001b[39mUndefVarError: `Base64EncodePipe` not defined"
     ]
    }
   ],
   "source": [
    "function cost_function(params)\n",
    "    u0=Initialization_system(N)\n",
    "    tspan = (0, 100)\n",
    "    prob = ODEProblem(system_dynamics!, u0, tspan, params)\n",
    "    solution = solve(prob, lsoda())\n",
    "    \n",
    "    moiture_uptake = -sum((fill(Y_a0,length(solution[1,:])) - solution[1,:])*params[1]*vec)\n",
    "    \n",
    "    return fitness\n",
    "end"
   ]
  },
  {
   "cell_type": "code",
   "execution_count": 33,
   "metadata": {},
   "outputs": [
    {
     "ename": "UndefVarError",
     "evalue": "UndefVarError: `A` not defined",
     "output_type": "error",
     "traceback": [
      "UndefVarError: `A` not defined\n",
      "\n",
      "Stacktrace:\n",
      " [1] cost_function(params::Vector{Float64})\n",
      "   @ Main f:\\My Drive\\Course\\2024 Spring\\MEEN 683 MSADO\\Project\\DW.ipynb:7\n",
      " [2] fitness(x::Vector{Float64}, p::FunctionBasedProblem{typeof(cost_function), ScalarFitnessScheme{true}, ContinuousRectSearchSpace, Nothing})\n",
      "   @ BlackBoxOptim C:\\Users\\h_guan\\.julia\\packages\\BlackBoxOptim\\lZtsr\\src\\problem.jl:61\n",
      " [3] setup_problem(func::Function, parameters::ParamsDictChain)\n",
      "   @ BlackBoxOptim C:\\Users\\h_guan\\.julia\\packages\\BlackBoxOptim\\lZtsr\\src\\bboptimize.jl:37\n",
      " [4] bbsetup(functionOrProblem::Function, parameters::Dict{Symbol, Any}; kwargs::@Kwargs{SearchRange::Vector{Tuple{Real, Real}}, Method::Symbol})\n",
      "   @ BlackBoxOptim C:\\Users\\h_guan\\.julia\\packages\\BlackBoxOptim\\lZtsr\\src\\bboptimize.jl:111\n",
      " [5] bbsetup\n",
      "   @ C:\\Users\\h_guan\\.julia\\packages\\BlackBoxOptim\\lZtsr\\src\\bboptimize.jl:109 [inlined]\n",
      " [6] bboptimize(functionOrProblem::Function, x0::Vector{Float64}, parameters::Dict{Symbol, Any}; kwargs::@Kwargs{SearchRange::Vector{Tuple{Real, Real}}, Method::Symbol})\n",
      "   @ BlackBoxOptim C:\\Users\\h_guan\\.julia\\packages\\BlackBoxOptim\\lZtsr\\src\\bboptimize.jl:87\n",
      " [7] bboptimize\n",
      "   @ C:\\Users\\h_guan\\.julia\\packages\\BlackBoxOptim\\lZtsr\\src\\bboptimize.jl:86 [inlined]\n",
      " [8] top-level scope\n",
      "   @ f:\\My Drive\\Course\\2024 Spring\\MEEN 683 MSADO\\Project\\DW.ipynb:4"
     ]
    }
   ],
   "source": [
    "bounds = [(0.000001, 0.00001), (0.006, 0.01), (0.1, 0.25), (60,90), (0.05, 0.15)]\n",
    "good_guess = [0.0000025,0.0076,0.2,51,0.009]\n",
    "# Perform global optimization using Differential Evolution\n",
    "result = bboptimize(cost_function,good_guess,SearchRange = bounds,  Method = :random_search)"
   ]
  }
 ],
 "metadata": {
  "kernelspec": {
   "display_name": "Julia 1.10.5",
   "language": "julia",
   "name": "julia-1.10"
  },
  "language_info": {
   "file_extension": ".jl",
   "mimetype": "application/julia",
   "name": "julia",
   "version": "1.10.5"
  },
  "orig_nbformat": 4
 },
 "nbformat": 4,
 "nbformat_minor": 2
}
